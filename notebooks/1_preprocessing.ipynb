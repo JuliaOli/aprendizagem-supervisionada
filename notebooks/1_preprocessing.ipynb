{
  "nbformat": 4,
  "nbformat_minor": 0,
  "metadata": {
    "colab": {
      "name": "1_preprocessing.ipynb",
      "provenance": [],
      "collapsed_sections": [
        "YfzjpU8DEBKk",
        "fKb9Z7ynHEjA",
        "74OGEe-tHc9r",
        "gEICvoB2ILQW",
        "sOaWuY7dE84q"
      ],
      "toc_visible": true,
      "include_colab_link": true
    },
    "kernelspec": {
      "name": "python3",
      "display_name": "Python 3"
    }
  },
  "cells": [
    {
      "cell_type": "markdown",
      "metadata": {
        "id": "view-in-github",
        "colab_type": "text"
      },
      "source": [
        "<a href=\"https://colab.research.google.com/github/intelligentagents/aprendizagem-supervisionada/blob/master/notebooks/1_preprocessing.ipynb\" target=\"_parent\"><img src=\"https://colab.research.google.com/assets/colab-badge.svg\" alt=\"Open In Colab\"/></a>"
      ]
    },
    {
      "cell_type": "markdown",
      "metadata": {
        "id": "w-RUHj0kHSFa",
        "colab_type": "text"
      },
      "source": [
        "# Semana 1 - Aprendizagem Supervisonada\n",
        "---\n",
        "\n"
      ]
    },
    {
      "cell_type": "markdown",
      "metadata": {
        "id": "YfzjpU8DEBKk",
        "colab_type": "text"
      },
      "source": [
        "## Pré-Processamento dos Dados."
      ]
    },
    {
      "cell_type": "markdown",
      "metadata": {
        "id": "fKb9Z7ynHEjA",
        "colab_type": "text"
      },
      "source": [
        "### Importando as bibliotecas"
      ]
    },
    {
      "cell_type": "code",
      "metadata": {
        "id": "Ml7cyyo3abml",
        "colab_type": "code",
        "colab": {}
      },
      "source": [
        "import pandas as pd\n",
        "import random\n",
        "from sklearn.preprocessing import LabelEncoder\n",
        "from sklearn.model_selection import train_test_split\n",
        "from sklearn.preprocessing import StandardScaler\n",
        "from sklearn.model_selection import KFold\n"
      ],
      "execution_count": 0,
      "outputs": []
    },
    {
      "cell_type": "markdown",
      "metadata": {
        "id": "74OGEe-tHc9r",
        "colab_type": "text"
      },
      "source": [
        "### Importando e explorando o dataset"
      ]
    },
    {
      "cell_type": "code",
      "metadata": {
        "id": "XhtrtAb9EvT7",
        "colab_type": "code",
        "outputId": "dcc46c62-cb1c-4835-83de-c7be3151e3d3",
        "colab": {
          "base_uri": "https://localhost:8080/",
          "height": 359
        }
      },
      "source": [
        "data_url = 'https://raw.githubusercontent.com/r4phael/ml-course/master/data/preprocessing_data.csv'\n",
        "\n",
        "df = pd.read_csv(data_url)\n",
        "\n",
        "df.head(10)"
      ],
      "execution_count": 0,
      "outputs": [
        {
          "output_type": "execute_result",
          "data": {
            "text/html": [
              "<div>\n",
              "<style scoped>\n",
              "    .dataframe tbody tr th:only-of-type {\n",
              "        vertical-align: middle;\n",
              "    }\n",
              "\n",
              "    .dataframe tbody tr th {\n",
              "        vertical-align: top;\n",
              "    }\n",
              "\n",
              "    .dataframe thead th {\n",
              "        text-align: right;\n",
              "    }\n",
              "</style>\n",
              "<table border=\"1\" class=\"dataframe\">\n",
              "  <thead>\n",
              "    <tr style=\"text-align: right;\">\n",
              "      <th></th>\n",
              "      <th>City</th>\n",
              "      <th>Age</th>\n",
              "      <th>Salary</th>\n",
              "      <th>Sex</th>\n",
              "      <th>Acquired</th>\n",
              "    </tr>\n",
              "  </thead>\n",
              "  <tbody>\n",
              "    <tr>\n",
              "      <th>0</th>\n",
              "      <td>Paraiba</td>\n",
              "      <td>42.0</td>\n",
              "      <td>6500.0</td>\n",
              "      <td>M</td>\n",
              "      <td>No</td>\n",
              "    </tr>\n",
              "    <tr>\n",
              "      <th>1</th>\n",
              "      <td>Sao Paulo</td>\n",
              "      <td>21.0</td>\n",
              "      <td>4300.0</td>\n",
              "      <td>F</td>\n",
              "      <td>Yes</td>\n",
              "    </tr>\n",
              "    <tr>\n",
              "      <th>2</th>\n",
              "      <td>Brasilia</td>\n",
              "      <td>28.0</td>\n",
              "      <td>4900.0</td>\n",
              "      <td>F</td>\n",
              "      <td>No</td>\n",
              "    </tr>\n",
              "    <tr>\n",
              "      <th>3</th>\n",
              "      <td>Recife</td>\n",
              "      <td>35.0</td>\n",
              "      <td>5400.0</td>\n",
              "      <td>F</td>\n",
              "      <td>No</td>\n",
              "    </tr>\n",
              "    <tr>\n",
              "      <th>4</th>\n",
              "      <td>Maceio</td>\n",
              "      <td>38.0</td>\n",
              "      <td>NaN</td>\n",
              "      <td>M</td>\n",
              "      <td>Yes</td>\n",
              "    </tr>\n",
              "    <tr>\n",
              "      <th>5</th>\n",
              "      <td>Sao Paulo</td>\n",
              "      <td>33.0</td>\n",
              "      <td>5200.0</td>\n",
              "      <td>M</td>\n",
              "      <td>Yes</td>\n",
              "    </tr>\n",
              "    <tr>\n",
              "      <th>6</th>\n",
              "      <td>Belo Horizonte</td>\n",
              "      <td>NaN</td>\n",
              "      <td>4700.0</td>\n",
              "      <td>F</td>\n",
              "      <td>No</td>\n",
              "    </tr>\n",
              "    <tr>\n",
              "      <th>7</th>\n",
              "      <td>Sao Paulo</td>\n",
              "      <td>45.0</td>\n",
              "      <td>7100.0</td>\n",
              "      <td>M</td>\n",
              "      <td>Yes</td>\n",
              "    </tr>\n",
              "    <tr>\n",
              "      <th>8</th>\n",
              "      <td>Paraiba</td>\n",
              "      <td>51.0</td>\n",
              "      <td>7500.0</td>\n",
              "      <td>F</td>\n",
              "      <td>No</td>\n",
              "    </tr>\n",
              "    <tr>\n",
              "      <th>9</th>\n",
              "      <td>Fortaleza</td>\n",
              "      <td>39.0</td>\n",
              "      <td>6000.0</td>\n",
              "      <td>M</td>\n",
              "      <td>Yes</td>\n",
              "    </tr>\n",
              "  </tbody>\n",
              "</table>\n",
              "</div>"
            ],
            "text/plain": [
              "             City   Age  Salary Sex Acquired\n",
              "0         Paraiba  42.0  6500.0   M       No\n",
              "1       Sao Paulo  21.0  4300.0   F      Yes\n",
              "2        Brasilia  28.0  4900.0   F       No\n",
              "3          Recife  35.0  5400.0   F       No\n",
              "4          Maceio  38.0     NaN   M      Yes\n",
              "5       Sao Paulo  33.0  5200.0   M      Yes\n",
              "6  Belo Horizonte   NaN  4700.0   F       No\n",
              "7       Sao Paulo  45.0  7100.0   M      Yes\n",
              "8         Paraiba  51.0  7500.0   F       No\n",
              "9       Fortaleza  39.0  6000.0   M      Yes"
            ]
          },
          "metadata": {
            "tags": []
          },
          "execution_count": 8
        }
      ]
    },
    {
      "cell_type": "markdown",
      "metadata": {
        "id": "G2M6D7WTALj1",
        "colab_type": "text"
      },
      "source": [
        "Descrevendo o dataset"
      ]
    },
    {
      "cell_type": "code",
      "metadata": {
        "id": "yNgIaT9EALvx",
        "colab_type": "code",
        "outputId": "983e220a-1bb8-4b10-835e-cc9bbdb6cfb3",
        "colab": {
          "base_uri": "https://localhost:8080/",
          "height": 187
        }
      },
      "source": [
        "df.info()"
      ],
      "execution_count": 0,
      "outputs": [
        {
          "output_type": "stream",
          "text": [
            "<class 'pandas.core.frame.DataFrame'>\n",
            "RangeIndex: 10 entries, 0 to 9\n",
            "Data columns (total 5 columns):\n",
            "City        10 non-null object\n",
            "Age         9 non-null float64\n",
            "Salary      9 non-null float64\n",
            "Sex         10 non-null object\n",
            "Acquired    10 non-null object\n",
            "dtypes: float64(2), object(3)\n",
            "memory usage: 528.0+ bytes\n"
          ],
          "name": "stdout"
        }
      ]
    },
    {
      "cell_type": "markdown",
      "metadata": {
        "id": "ZHCi5m6MO7Ob",
        "colab_type": "text"
      },
      "source": [
        "Exibindo o sumário dos valores númericos do dataset:"
      ]
    },
    {
      "cell_type": "code",
      "metadata": {
        "id": "WCQ53_bXO7td",
        "colab_type": "code",
        "outputId": "2c1a7b03-61a1-4c8c-efc3-88a2f084447e",
        "colab": {
          "base_uri": "https://localhost:8080/",
          "height": 297
        }
      },
      "source": [
        "df.describe()"
      ],
      "execution_count": 0,
      "outputs": [
        {
          "output_type": "execute_result",
          "data": {
            "text/html": [
              "<div>\n",
              "<style scoped>\n",
              "    .dataframe tbody tr th:only-of-type {\n",
              "        vertical-align: middle;\n",
              "    }\n",
              "\n",
              "    .dataframe tbody tr th {\n",
              "        vertical-align: top;\n",
              "    }\n",
              "\n",
              "    .dataframe thead th {\n",
              "        text-align: right;\n",
              "    }\n",
              "</style>\n",
              "<table border=\"1\" class=\"dataframe\">\n",
              "  <thead>\n",
              "    <tr style=\"text-align: right;\">\n",
              "      <th></th>\n",
              "      <th>Age</th>\n",
              "      <th>Salary</th>\n",
              "    </tr>\n",
              "  </thead>\n",
              "  <tbody>\n",
              "    <tr>\n",
              "      <th>count</th>\n",
              "      <td>9.000000</td>\n",
              "      <td>9.000000</td>\n",
              "    </tr>\n",
              "    <tr>\n",
              "      <th>mean</th>\n",
              "      <td>36.888889</td>\n",
              "      <td>5733.333333</td>\n",
              "    </tr>\n",
              "    <tr>\n",
              "      <th>std</th>\n",
              "      <td>8.992281</td>\n",
              "      <td>1110.180166</td>\n",
              "    </tr>\n",
              "    <tr>\n",
              "      <th>min</th>\n",
              "      <td>21.000000</td>\n",
              "      <td>4300.000000</td>\n",
              "    </tr>\n",
              "    <tr>\n",
              "      <th>25%</th>\n",
              "      <td>33.000000</td>\n",
              "      <td>4900.000000</td>\n",
              "    </tr>\n",
              "    <tr>\n",
              "      <th>50%</th>\n",
              "      <td>38.000000</td>\n",
              "      <td>5400.000000</td>\n",
              "    </tr>\n",
              "    <tr>\n",
              "      <th>75%</th>\n",
              "      <td>42.000000</td>\n",
              "      <td>6500.000000</td>\n",
              "    </tr>\n",
              "    <tr>\n",
              "      <th>max</th>\n",
              "      <td>51.000000</td>\n",
              "      <td>7500.000000</td>\n",
              "    </tr>\n",
              "  </tbody>\n",
              "</table>\n",
              "</div>"
            ],
            "text/plain": [
              "             Age       Salary\n",
              "count   9.000000     9.000000\n",
              "mean   36.888889  5733.333333\n",
              "std     8.992281  1110.180166\n",
              "min    21.000000  4300.000000\n",
              "25%    33.000000  4900.000000\n",
              "50%    38.000000  5400.000000\n",
              "75%    42.000000  6500.000000\n",
              "max    51.000000  7500.000000"
            ]
          },
          "metadata": {
            "tags": []
          },
          "execution_count": 45
        }
      ]
    },
    {
      "cell_type": "markdown",
      "metadata": {
        "id": "7gWrQyDhEveQ",
        "colab_type": "text"
      },
      "source": [
        "Analisando a Distribuição das váriaveis numéricas em um bloxplot:\n"
      ]
    },
    {
      "cell_type": "code",
      "metadata": {
        "id": "J4EiW3qTEvqV",
        "colab_type": "code",
        "outputId": "c85225b6-d263-40d8-fb4a-5ddb7d182590",
        "colab": {
          "base_uri": "https://localhost:8080/",
          "height": 285
        }
      },
      "source": [
        "df.boxplot()"
      ],
      "execution_count": 0,
      "outputs": [
        {
          "output_type": "execute_result",
          "data": {
            "text/plain": [
              "<matplotlib.axes._subplots.AxesSubplot at 0x7f5264997550>"
            ]
          },
          "metadata": {
            "tags": []
          },
          "execution_count": 46
        },
        {
          "output_type": "display_data",
          "data": {
            "image/png": "[encoded data removed]",
            "text/plain": [
              "<Figure size 432x288 with 1 Axes>"
            ]
          },
          "metadata": {
            "tags": []
          }
        }
      ]
    },
    {
      "cell_type": "markdown",
      "metadata": {
        "id": "ihXP7SS4Pn-d",
        "colab_type": "text"
      },
      "source": [
        "Analisando a Distribuição das váriaveis numéricas em um gráfico de barras:\n"
      ]
    },
    {
      "cell_type": "code",
      "metadata": {
        "id": "FvRcBnm0PusM",
        "colab_type": "code",
        "outputId": "ec38adc9-8993-466f-d236-576f0a99d181",
        "colab": {
          "base_uri": "https://localhost:8080/",
          "height": 335
        }
      },
      "source": [
        "df.hist()"
      ],
      "execution_count": 0,
      "outputs": [
        {
          "output_type": "execute_result",
          "data": {
            "text/plain": [
              "array([[<matplotlib.axes._subplots.AxesSubplot object at 0x7f5264a0d1d0>,\n",
              "        <matplotlib.axes._subplots.AxesSubplot object at 0x7f52649e05f8>]],\n",
              "      dtype=object)"
            ]
          },
          "metadata": {
            "tags": []
          },
          "execution_count": 47
        },
        {
          "output_type": "display_data",
          "data": {
            "image/png": "[encoded data removed]",
            "text/plain": [
              "<Figure size 432x288 with 2 Axes>"
            ]
          },
          "metadata": {
            "tags": []
          }
        }
      ]
    },
    {
      "cell_type": "markdown",
      "metadata": {
        "id": "gEICvoB2ILQW",
        "colab_type": "text"
      },
      "source": [
        "### Manipulação e tratamento dos dados."
      ]
    },
    {
      "cell_type": "markdown",
      "metadata": {
        "id": "n-mT0CzXu2mE",
        "colab_type": "text"
      },
      "source": [
        "Detectando registros com valores nulos no dataframe:"
      ]
    },
    {
      "cell_type": "code",
      "metadata": {
        "id": "62wWTUYXu2ZM",
        "colab_type": "code",
        "outputId": "47e351f6-cbd9-44b6-bcca-f0594872a414",
        "colab": {
          "base_uri": "https://localhost:8080/",
          "height": 111
        }
      },
      "source": [
        "df[df.isnull().any(axis=1)]"
      ],
      "execution_count": 0,
      "outputs": [
        {
          "output_type": "execute_result",
          "data": {
            "text/html": [
              "<div>\n",
              "<style scoped>\n",
              "    .dataframe tbody tr th:only-of-type {\n",
              "        vertical-align: middle;\n",
              "    }\n",
              "\n",
              "    .dataframe tbody tr th {\n",
              "        vertical-align: top;\n",
              "    }\n",
              "\n",
              "    .dataframe thead th {\n",
              "        text-align: right;\n",
              "    }\n",
              "</style>\n",
              "<table border=\"1\" class=\"dataframe\">\n",
              "  <thead>\n",
              "    <tr style=\"text-align: right;\">\n",
              "      <th></th>\n",
              "      <th>City</th>\n",
              "      <th>Age</th>\n",
              "      <th>Salary</th>\n",
              "      <th>Sex</th>\n",
              "      <th>Acquired</th>\n",
              "    </tr>\n",
              "  </thead>\n",
              "  <tbody>\n",
              "    <tr>\n",
              "      <th>4</th>\n",
              "      <td>Maceio</td>\n",
              "      <td>38.0</td>\n",
              "      <td>NaN</td>\n",
              "      <td>M</td>\n",
              "      <td>Yes</td>\n",
              "    </tr>\n",
              "    <tr>\n",
              "      <th>6</th>\n",
              "      <td>Belo Horizonte</td>\n",
              "      <td>NaN</td>\n",
              "      <td>4700.0</td>\n",
              "      <td>F</td>\n",
              "      <td>No</td>\n",
              "    </tr>\n",
              "  </tbody>\n",
              "</table>\n",
              "</div>"
            ],
            "text/plain": [
              "             City   Age  Salary Sex Acquired\n",
              "4          Maceio  38.0     NaN   M      Yes\n",
              "6  Belo Horizonte   NaN  4700.0   F       No"
            ]
          },
          "metadata": {
            "tags": []
          },
          "execution_count": 48
        }
      ]
    },
    {
      "cell_type": "markdown",
      "metadata": {
        "id": "vUqdThImwA49",
        "colab_type": "text"
      },
      "source": [
        "Deletando registros com valores nulos:"
      ]
    },
    {
      "cell_type": "code",
      "metadata": {
        "id": "q5eiqJbywBLL",
        "colab_type": "code",
        "outputId": "ccaa991f-74bc-4161-c956-5f446b1ad3fb",
        "colab": {
          "base_uri": "https://localhost:8080/",
          "height": 297
        }
      },
      "source": [
        "df.dropna()"
      ],
      "execution_count": 0,
      "outputs": [
        {
          "output_type": "execute_result",
          "data": {
            "text/html": [
              "<div>\n",
              "<style scoped>\n",
              "    .dataframe tbody tr th:only-of-type {\n",
              "        vertical-align: middle;\n",
              "    }\n",
              "\n",
              "    .dataframe tbody tr th {\n",
              "        vertical-align: top;\n",
              "    }\n",
              "\n",
              "    .dataframe thead th {\n",
              "        text-align: right;\n",
              "    }\n",
              "</style>\n",
              "<table border=\"1\" class=\"dataframe\">\n",
              "  <thead>\n",
              "    <tr style=\"text-align: right;\">\n",
              "      <th></th>\n",
              "      <th>City</th>\n",
              "      <th>Age</th>\n",
              "      <th>Salary</th>\n",
              "      <th>Sex</th>\n",
              "      <th>Acquired</th>\n",
              "    </tr>\n",
              "  </thead>\n",
              "  <tbody>\n",
              "    <tr>\n",
              "      <th>0</th>\n",
              "      <td>Paraiba</td>\n",
              "      <td>42.0</td>\n",
              "      <td>6500.0</td>\n",
              "      <td>M</td>\n",
              "      <td>No</td>\n",
              "    </tr>\n",
              "    <tr>\n",
              "      <th>1</th>\n",
              "      <td>Sao Paulo</td>\n",
              "      <td>21.0</td>\n",
              "      <td>4300.0</td>\n",
              "      <td>F</td>\n",
              "      <td>Yes</td>\n",
              "    </tr>\n",
              "    <tr>\n",
              "      <th>2</th>\n",
              "      <td>Brasilia</td>\n",
              "      <td>28.0</td>\n",
              "      <td>4900.0</td>\n",
              "      <td>F</td>\n",
              "      <td>No</td>\n",
              "    </tr>\n",
              "    <tr>\n",
              "      <th>3</th>\n",
              "      <td>Recife</td>\n",
              "      <td>35.0</td>\n",
              "      <td>5400.0</td>\n",
              "      <td>F</td>\n",
              "      <td>No</td>\n",
              "    </tr>\n",
              "    <tr>\n",
              "      <th>5</th>\n",
              "      <td>Sao Paulo</td>\n",
              "      <td>33.0</td>\n",
              "      <td>5200.0</td>\n",
              "      <td>M</td>\n",
              "      <td>Yes</td>\n",
              "    </tr>\n",
              "    <tr>\n",
              "      <th>7</th>\n",
              "      <td>Sao Paulo</td>\n",
              "      <td>45.0</td>\n",
              "      <td>7100.0</td>\n",
              "      <td>M</td>\n",
              "      <td>Yes</td>\n",
              "    </tr>\n",
              "    <tr>\n",
              "      <th>8</th>\n",
              "      <td>Paraiba</td>\n",
              "      <td>51.0</td>\n",
              "      <td>7500.0</td>\n",
              "      <td>F</td>\n",
              "      <td>No</td>\n",
              "    </tr>\n",
              "    <tr>\n",
              "      <th>9</th>\n",
              "      <td>Fortaleza</td>\n",
              "      <td>39.0</td>\n",
              "      <td>6000.0</td>\n",
              "      <td>M</td>\n",
              "      <td>Yes</td>\n",
              "    </tr>\n",
              "  </tbody>\n",
              "</table>\n",
              "</div>"
            ],
            "text/plain": [
              "        City   Age  Salary Sex Acquired\n",
              "0    Paraiba  42.0  6500.0   M       No\n",
              "1  Sao Paulo  21.0  4300.0   F      Yes\n",
              "2   Brasilia  28.0  4900.0   F       No\n",
              "3     Recife  35.0  5400.0   F       No\n",
              "5  Sao Paulo  33.0  5200.0   M      Yes\n",
              "7  Sao Paulo  45.0  7100.0   M      Yes\n",
              "8    Paraiba  51.0  7500.0   F       No\n",
              "9  Fortaleza  39.0  6000.0   M      Yes"
            ]
          },
          "metadata": {
            "tags": []
          },
          "execution_count": 49
        }
      ]
    },
    {
      "cell_type": "markdown",
      "metadata": {
        "id": "BLxBSWlxuPMs",
        "colab_type": "text"
      },
      "source": [
        "Preenchendo os registros nuḿericos que não possuem valores com zeros:"
      ]
    },
    {
      "cell_type": "code",
      "metadata": {
        "id": "_VdmKni6uFJm",
        "colab_type": "code",
        "outputId": "49c2c44e-b7d2-4e82-e1ce-197b8363e648",
        "colab": {
          "base_uri": "https://localhost:8080/",
          "height": 359
        }
      },
      "source": [
        "df.fillna(0)"
      ],
      "execution_count": 0,
      "outputs": [
        {
          "output_type": "execute_result",
          "data": {
            "text/html": [
              "<div>\n",
              "<style scoped>\n",
              "    .dataframe tbody tr th:only-of-type {\n",
              "        vertical-align: middle;\n",
              "    }\n",
              "\n",
              "    .dataframe tbody tr th {\n",
              "        vertical-align: top;\n",
              "    }\n",
              "\n",
              "    .dataframe thead th {\n",
              "        text-align: right;\n",
              "    }\n",
              "</style>\n",
              "<table border=\"1\" class=\"dataframe\">\n",
              "  <thead>\n",
              "    <tr style=\"text-align: right;\">\n",
              "      <th></th>\n",
              "      <th>City</th>\n",
              "      <th>Age</th>\n",
              "      <th>Salary</th>\n",
              "      <th>Sex</th>\n",
              "      <th>Acquired</th>\n",
              "    </tr>\n",
              "  </thead>\n",
              "  <tbody>\n",
              "    <tr>\n",
              "      <th>0</th>\n",
              "      <td>Paraiba</td>\n",
              "      <td>42.0</td>\n",
              "      <td>6500.0</td>\n",
              "      <td>M</td>\n",
              "      <td>No</td>\n",
              "    </tr>\n",
              "    <tr>\n",
              "      <th>1</th>\n",
              "      <td>Sao Paulo</td>\n",
              "      <td>21.0</td>\n",
              "      <td>4300.0</td>\n",
              "      <td>F</td>\n",
              "      <td>Yes</td>\n",
              "    </tr>\n",
              "    <tr>\n",
              "      <th>2</th>\n",
              "      <td>Brasilia</td>\n",
              "      <td>28.0</td>\n",
              "      <td>4900.0</td>\n",
              "      <td>F</td>\n",
              "      <td>No</td>\n",
              "    </tr>\n",
              "    <tr>\n",
              "      <th>3</th>\n",
              "      <td>Recife</td>\n",
              "      <td>35.0</td>\n",
              "      <td>5400.0</td>\n",
              "      <td>F</td>\n",
              "      <td>No</td>\n",
              "    </tr>\n",
              "    <tr>\n",
              "      <th>4</th>\n",
              "      <td>Maceio</td>\n",
              "      <td>38.0</td>\n",
              "      <td>0.0</td>\n",
              "      <td>M</td>\n",
              "      <td>Yes</td>\n",
              "    </tr>\n",
              "    <tr>\n",
              "      <th>5</th>\n",
              "      <td>Sao Paulo</td>\n",
              "      <td>33.0</td>\n",
              "      <td>5200.0</td>\n",
              "      <td>M</td>\n",
              "      <td>Yes</td>\n",
              "    </tr>\n",
              "    <tr>\n",
              "      <th>6</th>\n",
              "      <td>Belo Horizonte</td>\n",
              "      <td>0.0</td>\n",
              "      <td>4700.0</td>\n",
              "      <td>F</td>\n",
              "      <td>No</td>\n",
              "    </tr>\n",
              "    <tr>\n",
              "      <th>7</th>\n",
              "      <td>Sao Paulo</td>\n",
              "      <td>45.0</td>\n",
              "      <td>7100.0</td>\n",
              "      <td>M</td>\n",
              "      <td>Yes</td>\n",
              "    </tr>\n",
              "    <tr>\n",
              "      <th>8</th>\n",
              "      <td>Paraiba</td>\n",
              "      <td>51.0</td>\n",
              "      <td>7500.0</td>\n",
              "      <td>F</td>\n",
              "      <td>No</td>\n",
              "    </tr>\n",
              "    <tr>\n",
              "      <th>9</th>\n",
              "      <td>Fortaleza</td>\n",
              "      <td>39.0</td>\n",
              "      <td>6000.0</td>\n",
              "      <td>M</td>\n",
              "      <td>Yes</td>\n",
              "    </tr>\n",
              "  </tbody>\n",
              "</table>\n",
              "</div>"
            ],
            "text/plain": [
              "             City   Age  Salary Sex Acquired\n",
              "0         Paraiba  42.0  6500.0   M       No\n",
              "1       Sao Paulo  21.0  4300.0   F      Yes\n",
              "2        Brasilia  28.0  4900.0   F       No\n",
              "3          Recife  35.0  5400.0   F       No\n",
              "4          Maceio  38.0     0.0   M      Yes\n",
              "5       Sao Paulo  33.0  5200.0   M      Yes\n",
              "6  Belo Horizonte   0.0  4700.0   F       No\n",
              "7       Sao Paulo  45.0  7100.0   M      Yes\n",
              "8         Paraiba  51.0  7500.0   F       No\n",
              "9       Fortaleza  39.0  6000.0   M      Yes"
            ]
          },
          "metadata": {
            "tags": []
          },
          "execution_count": 50
        }
      ]
    },
    {
      "cell_type": "markdown",
      "metadata": {
        "id": "7C_huRY_uXyL",
        "colab_type": "text"
      },
      "source": [
        "Preenchendo os registros nuḿericos que não possuem valores com a média."
      ]
    },
    {
      "cell_type": "code",
      "metadata": {
        "id": "7b-CHNA_uXos",
        "colab_type": "code",
        "outputId": "4403514c-279c-4a45-99d3-63758bef97fa",
        "colab": {
          "base_uri": "https://localhost:8080/",
          "height": 359
        }
      },
      "source": [
        "df.fillna(df.mean())"
      ],
      "execution_count": 0,
      "outputs": [
        {
          "output_type": "execute_result",
          "data": {
            "text/html": [
              "<div>\n",
              "<style scoped>\n",
              "    .dataframe tbody tr th:only-of-type {\n",
              "        vertical-align: middle;\n",
              "    }\n",
              "\n",
              "    .dataframe tbody tr th {\n",
              "        vertical-align: top;\n",
              "    }\n",
              "\n",
              "    .dataframe thead th {\n",
              "        text-align: right;\n",
              "    }\n",
              "</style>\n",
              "<table border=\"1\" class=\"dataframe\">\n",
              "  <thead>\n",
              "    <tr style=\"text-align: right;\">\n",
              "      <th></th>\n",
              "      <th>City</th>\n",
              "      <th>Age</th>\n",
              "      <th>Salary</th>\n",
              "      <th>Sex</th>\n",
              "      <th>Acquired</th>\n",
              "    </tr>\n",
              "  </thead>\n",
              "  <tbody>\n",
              "    <tr>\n",
              "      <th>0</th>\n",
              "      <td>Paraiba</td>\n",
              "      <td>42.000000</td>\n",
              "      <td>6500.000000</td>\n",
              "      <td>M</td>\n",
              "      <td>No</td>\n",
              "    </tr>\n",
              "    <tr>\n",
              "      <th>1</th>\n",
              "      <td>Sao Paulo</td>\n",
              "      <td>21.000000</td>\n",
              "      <td>4300.000000</td>\n",
              "      <td>F</td>\n",
              "      <td>Yes</td>\n",
              "    </tr>\n",
              "    <tr>\n",
              "      <th>2</th>\n",
              "      <td>Brasilia</td>\n",
              "      <td>28.000000</td>\n",
              "      <td>4900.000000</td>\n",
              "      <td>F</td>\n",
              "      <td>No</td>\n",
              "    </tr>\n",
              "    <tr>\n",
              "      <th>3</th>\n",
              "      <td>Recife</td>\n",
              "      <td>35.000000</td>\n",
              "      <td>5400.000000</td>\n",
              "      <td>F</td>\n",
              "      <td>No</td>\n",
              "    </tr>\n",
              "    <tr>\n",
              "      <th>4</th>\n",
              "      <td>Maceio</td>\n",
              "      <td>38.000000</td>\n",
              "      <td>5733.333333</td>\n",
              "      <td>M</td>\n",
              "      <td>Yes</td>\n",
              "    </tr>\n",
              "    <tr>\n",
              "      <th>5</th>\n",
              "      <td>Sao Paulo</td>\n",
              "      <td>33.000000</td>\n",
              "      <td>5200.000000</td>\n",
              "      <td>M</td>\n",
              "      <td>Yes</td>\n",
              "    </tr>\n",
              "    <tr>\n",
              "      <th>6</th>\n",
              "      <td>Belo Horizonte</td>\n",
              "      <td>36.888889</td>\n",
              "      <td>4700.000000</td>\n",
              "      <td>F</td>\n",
              "      <td>No</td>\n",
              "    </tr>\n",
              "    <tr>\n",
              "      <th>7</th>\n",
              "      <td>Sao Paulo</td>\n",
              "      <td>45.000000</td>\n",
              "      <td>7100.000000</td>\n",
              "      <td>M</td>\n",
              "      <td>Yes</td>\n",
              "    </tr>\n",
              "    <tr>\n",
              "      <th>8</th>\n",
              "      <td>Paraiba</td>\n",
              "      <td>51.000000</td>\n",
              "      <td>7500.000000</td>\n",
              "      <td>F</td>\n",
              "      <td>No</td>\n",
              "    </tr>\n",
              "    <tr>\n",
              "      <th>9</th>\n",
              "      <td>Fortaleza</td>\n",
              "      <td>39.000000</td>\n",
              "      <td>6000.000000</td>\n",
              "      <td>M</td>\n",
              "      <td>Yes</td>\n",
              "    </tr>\n",
              "  </tbody>\n",
              "</table>\n",
              "</div>"
            ],
            "text/plain": [
              "             City        Age       Salary Sex Acquired\n",
              "0         Paraiba  42.000000  6500.000000   M       No\n",
              "1       Sao Paulo  21.000000  4300.000000   F      Yes\n",
              "2        Brasilia  28.000000  4900.000000   F       No\n",
              "3          Recife  35.000000  5400.000000   F       No\n",
              "4          Maceio  38.000000  5733.333333   M      Yes\n",
              "5       Sao Paulo  33.000000  5200.000000   M      Yes\n",
              "6  Belo Horizonte  36.888889  4700.000000   F       No\n",
              "7       Sao Paulo  45.000000  7100.000000   M      Yes\n",
              "8         Paraiba  51.000000  7500.000000   F       No\n",
              "9       Fortaleza  39.000000  6000.000000   M      Yes"
            ]
          },
          "metadata": {
            "tags": []
          },
          "execution_count": 51
        }
      ]
    },
    {
      "cell_type": "markdown",
      "metadata": {
        "id": "Pb9BNG6JEv0q",
        "colab_type": "text"
      },
      "source": [
        "Salvando o dataframe com os registros nuḿericos que não possuem valores com a mediana."
      ]
    },
    {
      "cell_type": "code",
      "metadata": {
        "id": "5YZvU837Ev9n",
        "colab_type": "code",
        "outputId": "ac8c242d-511d-493e-c488-a3e87ae4d112",
        "colab": {
          "base_uri": "https://localhost:8080/",
          "height": 359
        }
      },
      "source": [
        "df = df.fillna(df.median())\n",
        "df"
      ],
      "execution_count": 0,
      "outputs": [
        {
          "output_type": "execute_result",
          "data": {
            "text/html": [
              "<div>\n",
              "<style scoped>\n",
              "    .dataframe tbody tr th:only-of-type {\n",
              "        vertical-align: middle;\n",
              "    }\n",
              "\n",
              "    .dataframe tbody tr th {\n",
              "        vertical-align: top;\n",
              "    }\n",
              "\n",
              "    .dataframe thead th {\n",
              "        text-align: right;\n",
              "    }\n",
              "</style>\n",
              "<table border=\"1\" class=\"dataframe\">\n",
              "  <thead>\n",
              "    <tr style=\"text-align: right;\">\n",
              "      <th></th>\n",
              "      <th>City</th>\n",
              "      <th>Age</th>\n",
              "      <th>Salary</th>\n",
              "      <th>Sex</th>\n",
              "      <th>Acquired</th>\n",
              "    </tr>\n",
              "  </thead>\n",
              "  <tbody>\n",
              "    <tr>\n",
              "      <th>0</th>\n",
              "      <td>Paraiba</td>\n",
              "      <td>42.0</td>\n",
              "      <td>6500.0</td>\n",
              "      <td>M</td>\n",
              "      <td>No</td>\n",
              "    </tr>\n",
              "    <tr>\n",
              "      <th>1</th>\n",
              "      <td>Sao Paulo</td>\n",
              "      <td>21.0</td>\n",
              "      <td>4300.0</td>\n",
              "      <td>F</td>\n",
              "      <td>Yes</td>\n",
              "    </tr>\n",
              "    <tr>\n",
              "      <th>2</th>\n",
              "      <td>Brasilia</td>\n",
              "      <td>28.0</td>\n",
              "      <td>4900.0</td>\n",
              "      <td>F</td>\n",
              "      <td>No</td>\n",
              "    </tr>\n",
              "    <tr>\n",
              "      <th>3</th>\n",
              "      <td>Recife</td>\n",
              "      <td>35.0</td>\n",
              "      <td>5400.0</td>\n",
              "      <td>F</td>\n",
              "      <td>No</td>\n",
              "    </tr>\n",
              "    <tr>\n",
              "      <th>4</th>\n",
              "      <td>Maceio</td>\n",
              "      <td>38.0</td>\n",
              "      <td>5400.0</td>\n",
              "      <td>M</td>\n",
              "      <td>Yes</td>\n",
              "    </tr>\n",
              "    <tr>\n",
              "      <th>5</th>\n",
              "      <td>Sao Paulo</td>\n",
              "      <td>33.0</td>\n",
              "      <td>5200.0</td>\n",
              "      <td>M</td>\n",
              "      <td>Yes</td>\n",
              "    </tr>\n",
              "    <tr>\n",
              "      <th>6</th>\n",
              "      <td>Belo Horizonte</td>\n",
              "      <td>38.0</td>\n",
              "      <td>4700.0</td>\n",
              "      <td>F</td>\n",
              "      <td>No</td>\n",
              "    </tr>\n",
              "    <tr>\n",
              "      <th>7</th>\n",
              "      <td>Sao Paulo</td>\n",
              "      <td>45.0</td>\n",
              "      <td>7100.0</td>\n",
              "      <td>M</td>\n",
              "      <td>Yes</td>\n",
              "    </tr>\n",
              "    <tr>\n",
              "      <th>8</th>\n",
              "      <td>Paraiba</td>\n",
              "      <td>51.0</td>\n",
              "      <td>7500.0</td>\n",
              "      <td>F</td>\n",
              "      <td>No</td>\n",
              "    </tr>\n",
              "    <tr>\n",
              "      <th>9</th>\n",
              "      <td>Fortaleza</td>\n",
              "      <td>39.0</td>\n",
              "      <td>6000.0</td>\n",
              "      <td>M</td>\n",
              "      <td>Yes</td>\n",
              "    </tr>\n",
              "  </tbody>\n",
              "</table>\n",
              "</div>"
            ],
            "text/plain": [
              "             City   Age  Salary Sex Acquired\n",
              "0         Paraiba  42.0  6500.0   M       No\n",
              "1       Sao Paulo  21.0  4300.0   F      Yes\n",
              "2        Brasilia  28.0  4900.0   F       No\n",
              "3          Recife  35.0  5400.0   F       No\n",
              "4          Maceio  38.0  5400.0   M      Yes\n",
              "5       Sao Paulo  33.0  5200.0   M      Yes\n",
              "6  Belo Horizonte  38.0  4700.0   F       No\n",
              "7       Sao Paulo  45.0  7100.0   M      Yes\n",
              "8         Paraiba  51.0  7500.0   F       No\n",
              "9       Fortaleza  39.0  6000.0   M      Yes"
            ]
          },
          "metadata": {
            "tags": []
          },
          "execution_count": 52
        }
      ]
    },
    {
      "cell_type": "markdown",
      "metadata": {
        "id": "KosHK6EKEwIO",
        "colab_type": "text"
      },
      "source": [
        "Definindos as variáveis independentes (X) e dependentes (y)."
      ]
    },
    {
      "cell_type": "code",
      "metadata": {
        "id": "dyTqObUCEwQc",
        "colab_type": "code",
        "outputId": "0862e857-82ba-4307-ee33-609a3f5e3090",
        "colab": {
          "base_uri": "https://localhost:8080/",
          "height": 187
        }
      },
      "source": [
        "X = df.iloc[:, :-1].values\n",
        "X"
      ],
      "execution_count": 0,
      "outputs": [
        {
          "output_type": "execute_result",
          "data": {
            "text/plain": [
              "array([['Paraiba', 42.0, 6500.0, 'M'],\n",
              "       ['Sao Paulo', 21.0, 4300.0, 'F'],\n",
              "       ['Brasilia', 28.0, 4900.0, 'F'],\n",
              "       ['Recife', 35.0, 5400.0, 'F'],\n",
              "       ['Maceio', 38.0, 5400.0, 'M'],\n",
              "       ['Sao Paulo', 33.0, 5200.0, 'M'],\n",
              "       ['Belo Horizonte', 38.0, 4700.0, 'F'],\n",
              "       ['Sao Paulo', 45.0, 7100.0, 'M'],\n",
              "       ['Paraiba', 51.0, 7500.0, 'F'],\n",
              "       ['Fortaleza', 39.0, 6000.0, 'M']], dtype=object)"
            ]
          },
          "metadata": {
            "tags": []
          },
          "execution_count": 53
        }
      ]
    },
    {
      "cell_type": "code",
      "metadata": {
        "id": "9S0CTHw7kULG",
        "colab_type": "code",
        "outputId": "34e28ce7-581c-48ff-dc5b-338edb8bbe8f",
        "colab": {
          "base_uri": "https://localhost:8080/",
          "height": 51
        }
      },
      "source": [
        "y = df.iloc[:, 4].values\n",
        "y"
      ],
      "execution_count": 0,
      "outputs": [
        {
          "output_type": "execute_result",
          "data": {
            "text/plain": [
              "array(['No', 'Yes', 'No', 'No', 'Yes', 'Yes', 'No', 'Yes', 'No', 'Yes'],\n",
              "      dtype=object)"
            ]
          },
          "metadata": {
            "tags": []
          },
          "execution_count": 54
        }
      ]
    },
    {
      "cell_type": "markdown",
      "metadata": {
        "id": "L8PiCd7EFOlC",
        "colab_type": "text"
      },
      "source": [
        "Codificando os valores da variável dependente (y) com valores númericos. "
      ]
    },
    {
      "cell_type": "code",
      "metadata": {
        "id": "-GTNjfslFovI",
        "colab_type": "code",
        "outputId": "fcb5d507-f12a-4715-84d4-5e760d2e93c9",
        "colab": {
          "base_uri": "https://localhost:8080/",
          "height": 34
        }
      },
      "source": [
        "le = LabelEncoder()\n",
        "\n",
        "y = df.iloc[:, 4].values\n",
        "y = le.fit_transform(y)\n",
        "\n",
        "y\n"
      ],
      "execution_count": 0,
      "outputs": [
        {
          "output_type": "execute_result",
          "data": {
            "text/plain": [
              "array([0, 1, 0, 0, 1, 1, 0, 1, 0, 1])"
            ]
          },
          "metadata": {
            "tags": []
          },
          "execution_count": 55
        }
      ]
    },
    {
      "cell_type": "markdown",
      "metadata": {
        "id": "lIlc1hbuFv-W",
        "colab_type": "text"
      },
      "source": [
        "Criando variáveis Dummy. \n",
        "\n",
        "*Obs*: Algumas técnicas de aprendizado de máquina exigem que você elimine uma dimensão da apresentação para evitar a dependência entre as variáveis. Isso pode ser feito através do parâmetro \"drop_first = True\"."
      ]
    },
    {
      "cell_type": "markdown",
      "metadata": {
        "id": "g9B7qRleEwF-",
        "colab_type": "text"
      },
      "source": [
        ""
      ]
    },
    {
      "cell_type": "code",
      "metadata": {
        "id": "Nt16kmUhFzw1",
        "colab_type": "code",
        "outputId": "66514df4-b3f0-445b-a5a0-db89f33d357a",
        "colab": {
          "base_uri": "https://localhost:8080/",
          "height": 359
        }
      },
      "source": [
        "X = pd.get_dummies(df.iloc[:, :-1] ,prefix=['city', 'sex'], drop_first=True).values\n",
        "y = df.iloc[:, 4].values\n",
        "\n",
        "pd.get_dummies(df.iloc[:, :-1] ,prefix=['city', 'sex'], drop_first=True)"
      ],
      "execution_count": 0,
      "outputs": [
        {
          "output_type": "execute_result",
          "data": {
            "text/html": [
              "<div>\n",
              "<style scoped>\n",
              "    .dataframe tbody tr th:only-of-type {\n",
              "        vertical-align: middle;\n",
              "    }\n",
              "\n",
              "    .dataframe tbody tr th {\n",
              "        vertical-align: top;\n",
              "    }\n",
              "\n",
              "    .dataframe thead th {\n",
              "        text-align: right;\n",
              "    }\n",
              "</style>\n",
              "<table border=\"1\" class=\"dataframe\">\n",
              "  <thead>\n",
              "    <tr style=\"text-align: right;\">\n",
              "      <th></th>\n",
              "      <th>Age</th>\n",
              "      <th>Salary</th>\n",
              "      <th>city_Brasilia</th>\n",
              "      <th>city_Fortaleza</th>\n",
              "      <th>city_Maceio</th>\n",
              "      <th>city_Paraiba</th>\n",
              "      <th>city_Recife</th>\n",
              "      <th>city_Sao Paulo</th>\n",
              "      <th>sex_M</th>\n",
              "    </tr>\n",
              "  </thead>\n",
              "  <tbody>\n",
              "    <tr>\n",
              "      <th>0</th>\n",
              "      <td>42.0</td>\n",
              "      <td>6500.0</td>\n",
              "      <td>0</td>\n",
              "      <td>0</td>\n",
              "      <td>0</td>\n",
              "      <td>1</td>\n",
              "      <td>0</td>\n",
              "      <td>0</td>\n",
              "      <td>1</td>\n",
              "    </tr>\n",
              "    <tr>\n",
              "      <th>1</th>\n",
              "      <td>21.0</td>\n",
              "      <td>4300.0</td>\n",
              "      <td>0</td>\n",
              "      <td>0</td>\n",
              "      <td>0</td>\n",
              "      <td>0</td>\n",
              "      <td>0</td>\n",
              "      <td>1</td>\n",
              "      <td>0</td>\n",
              "    </tr>\n",
              "    <tr>\n",
              "      <th>2</th>\n",
              "      <td>28.0</td>\n",
              "      <td>4900.0</td>\n",
              "      <td>1</td>\n",
              "      <td>0</td>\n",
              "      <td>0</td>\n",
              "      <td>0</td>\n",
              "      <td>0</td>\n",
              "      <td>0</td>\n",
              "      <td>0</td>\n",
              "    </tr>\n",
              "    <tr>\n",
              "      <th>3</th>\n",
              "      <td>35.0</td>\n",
              "      <td>5400.0</td>\n",
              "      <td>0</td>\n",
              "      <td>0</td>\n",
              "      <td>0</td>\n",
              "      <td>0</td>\n",
              "      <td>1</td>\n",
              "      <td>0</td>\n",
              "      <td>0</td>\n",
              "    </tr>\n",
              "    <tr>\n",
              "      <th>4</th>\n",
              "      <td>38.0</td>\n",
              "      <td>NaN</td>\n",
              "      <td>0</td>\n",
              "      <td>0</td>\n",
              "      <td>1</td>\n",
              "      <td>0</td>\n",
              "      <td>0</td>\n",
              "      <td>0</td>\n",
              "      <td>1</td>\n",
              "    </tr>\n",
              "    <tr>\n",
              "      <th>5</th>\n",
              "      <td>33.0</td>\n",
              "      <td>5200.0</td>\n",
              "      <td>0</td>\n",
              "      <td>0</td>\n",
              "      <td>0</td>\n",
              "      <td>0</td>\n",
              "      <td>0</td>\n",
              "      <td>1</td>\n",
              "      <td>1</td>\n",
              "    </tr>\n",
              "    <tr>\n",
              "      <th>6</th>\n",
              "      <td>NaN</td>\n",
              "      <td>4700.0</td>\n",
              "      <td>0</td>\n",
              "      <td>0</td>\n",
              "      <td>0</td>\n",
              "      <td>0</td>\n",
              "      <td>0</td>\n",
              "      <td>0</td>\n",
              "      <td>0</td>\n",
              "    </tr>\n",
              "    <tr>\n",
              "      <th>7</th>\n",
              "      <td>45.0</td>\n",
              "      <td>7100.0</td>\n",
              "      <td>0</td>\n",
              "      <td>0</td>\n",
              "      <td>0</td>\n",
              "      <td>0</td>\n",
              "      <td>0</td>\n",
              "      <td>1</td>\n",
              "      <td>1</td>\n",
              "    </tr>\n",
              "    <tr>\n",
              "      <th>8</th>\n",
              "      <td>51.0</td>\n",
              "      <td>7500.0</td>\n",
              "      <td>0</td>\n",
              "      <td>0</td>\n",
              "      <td>0</td>\n",
              "      <td>1</td>\n",
              "      <td>0</td>\n",
              "      <td>0</td>\n",
              "      <td>0</td>\n",
              "    </tr>\n",
              "    <tr>\n",
              "      <th>9</th>\n",
              "      <td>39.0</td>\n",
              "      <td>6000.0</td>\n",
              "      <td>0</td>\n",
              "      <td>1</td>\n",
              "      <td>0</td>\n",
              "      <td>0</td>\n",
              "      <td>0</td>\n",
              "      <td>0</td>\n",
              "      <td>1</td>\n",
              "    </tr>\n",
              "  </tbody>\n",
              "</table>\n",
              "</div>"
            ],
            "text/plain": [
              "    Age  Salary  city_Brasilia  ...  city_Recife  city_Sao Paulo  sex_M\n",
              "0  42.0  6500.0              0  ...            0               0      1\n",
              "1  21.0  4300.0              0  ...            0               1      0\n",
              "2  28.0  4900.0              1  ...            0               0      0\n",
              "3  35.0  5400.0              0  ...            1               0      0\n",
              "4  38.0     NaN              0  ...            0               0      1\n",
              "5  33.0  5200.0              0  ...            0               1      1\n",
              "6   NaN  4700.0              0  ...            0               0      0\n",
              "7  45.0  7100.0              0  ...            0               1      1\n",
              "8  51.0  7500.0              0  ...            0               0      0\n",
              "9  39.0  6000.0              0  ...            0               0      1\n",
              "\n",
              "[10 rows x 9 columns]"
            ]
          },
          "metadata": {
            "tags": []
          },
          "execution_count": 11
        }
      ]
    },
    {
      "cell_type": "markdown",
      "metadata": {
        "id": "XHtEVAJIzIfa",
        "colab_type": "text"
      },
      "source": [
        "Criando a função de escalonamento:"
      ]
    },
    {
      "cell_type": "code",
      "metadata": {
        "id": "AUZumBlBzJbC",
        "colab_type": "code",
        "colab": {}
      },
      "source": [
        "# Função de escalonamento\n",
        "def feature_scaling(data):\n",
        "    sc = StandardScaler()\n",
        "    return sc.fit_transform(data)"
      ],
      "execution_count": 0,
      "outputs": []
    },
    {
      "cell_type": "markdown",
      "metadata": {
        "id": "4uj0JsZjGOBr",
        "colab_type": "text"
      },
      "source": [
        "Visualizando a primeira instância do array de features após a aplicação da transformação do escalonamento."
      ]
    },
    {
      "cell_type": "code",
      "metadata": {
        "id": "VAsr0iLCGN3N",
        "colab_type": "code",
        "outputId": "4dae3750-6081-48f6-82e3-48aaf55bc2ff",
        "colab": {
          "base_uri": "https://localhost:8080/",
          "height": 357
        }
      },
      "source": [
        "X = feature_scaling(X)\n",
        "\n",
        "X"
      ],
      "execution_count": 0,
      "outputs": [
        {
          "output_type": "execute_result",
          "data": {
            "text/plain": [
              "array([[ 0.6028673 ,  0.73246922, -0.33333333, -0.33333333, -0.33333333,\n",
              "         2.        , -0.33333333, -0.65465367,  1.        ],\n",
              "       [-1.87413097, -1.36939897, -0.33333333, -0.33333333, -0.33333333,\n",
              "        -0.5       , -0.33333333,  1.52752523, -1.        ],\n",
              "       [-1.04846488, -0.79616219,  3.        , -0.33333333, -0.33333333,\n",
              "        -0.5       , -0.33333333, -0.65465367, -1.        ],\n",
              "       [-0.22279879, -0.31846488, -0.33333333, -0.33333333, -0.33333333,\n",
              "        -0.5       ,  3.        , -0.65465367, -1.        ],\n",
              "       [ 0.13105811,         nan, -0.33333333, -0.33333333,  3.        ,\n",
              "        -0.5       , -0.33333333, -0.65465367,  1.        ],\n",
              "       [-0.45870338, -0.5095438 , -0.33333333, -0.33333333, -0.33333333,\n",
              "        -0.5       , -0.33333333,  1.52752523,  1.        ],\n",
              "       [        nan, -0.98724112, -0.33333333, -0.33333333, -0.33333333,\n",
              "        -0.5       , -0.33333333, -0.65465367, -1.        ],\n",
              "       [ 0.9567242 ,  1.305706  , -0.33333333, -0.33333333, -0.33333333,\n",
              "        -0.5       , -0.33333333,  1.52752523,  1.        ],\n",
              "       [ 1.66443799,  1.68786385, -0.33333333, -0.33333333, -0.33333333,\n",
              "         2.        , -0.33333333, -0.65465367, -1.        ],\n",
              "       [ 0.24901041,  0.2547719 , -0.33333333,  3.        , -0.33333333,\n",
              "        -0.5       , -0.33333333, -0.65465367,  1.        ]])"
            ]
          },
          "metadata": {
            "tags": []
          },
          "execution_count": 13
        }
      ]
    },
    {
      "cell_type": "markdown",
      "metadata": {
        "id": "UprKkE8ARri2",
        "colab_type": "text"
      },
      "source": [
        "### Visualização dos Dados"
      ]
    },
    {
      "cell_type": "markdown",
      "metadata": {
        "id": "I9xDY4yrfuSJ",
        "colab_type": "text"
      },
      "source": [
        "Visualizando os dados numéricos (idade e salário) através de um gráfico de dispersão. Os eixo x e y correspondem ao salário e a idade respectivamente. Já as cores dos pontos estão relacionadas a variável *Acquired*, que siginifica se o cliente realizou a compra."
      ]
    },
    {
      "cell_type": "code",
      "metadata": {
        "id": "qiUjvcAaUyoj",
        "colab_type": "code",
        "outputId": "088d71cf-672b-4e4d-c77e-ef5f7ee6aad6",
        "colab": {
          "base_uri": "https://localhost:8080/",
          "height": 285
        }
      },
      "source": [
        "import seaborn as sns; sns.set()\n",
        "import matplotlib.pyplot as plt\n",
        "ax = sns.scatterplot(x=\"Salary\", y=\"Age\", hue=\"Acquired\", data=df)\n"
      ],
      "execution_count": 0,
      "outputs": [
        {
          "output_type": "display_data",
          "data": {
            "image/png": "[encoded data removed]",
            "text/plain": [
              "<Figure size 432x288 with 1 Axes>"
            ]
          },
          "metadata": {
            "tags": []
          }
        }
      ]
    },
    {
      "cell_type": "markdown",
      "metadata": {
        "id": "ecRq9DQdDlg6",
        "colab_type": "text"
      },
      "source": [
        "## Efetividade na Classificação"
      ]
    },
    {
      "cell_type": "markdown",
      "metadata": {
        "id": "zD4tGNnryE1V",
        "colab_type": "text"
      },
      "source": [
        "Criando as funções que calculam as diferentes métricas de efetividade:"
      ]
    },
    {
      "cell_type": "markdown",
      "metadata": {
        "colab_type": "text",
        "id": "68pzp-TcE8IC"
      },
      "source": [
        "### Cálculo das Medidas de Efetividade"
      ]
    },
    {
      "cell_type": "markdown",
      "metadata": {
        "id": "1-5WDv4uBsI9",
        "colab_type": "text"
      },
      "source": [
        "Definindo as funções de efetividade e importando bibliotecas:"
      ]
    },
    {
      "cell_type": "code",
      "metadata": {
        "id": "-dAa8zihyEP6",
        "colab_type": "code",
        "colab": {}
      },
      "source": [
        "# Função que calcula os reais positivos\n",
        "def rp(tp, fn):\n",
        "    return tp + fn\n",
        "\n",
        "# Função que calcula os reais negativos     \n",
        "def rn(fp, tn):\n",
        "    return fp + tn\n",
        "\n",
        "# Função que calcula as predições positivas  \n",
        "def pp(tp, fp):\n",
        "    return tp + fp\n",
        "\n",
        "# Função que calcula as predições negativas   \n",
        "def pn(fn, tn):\n",
        "    return fn + tn\n",
        "\n",
        "# Função que calcula Acurácia do modelo\n",
        "def accuracy (tp, fp, fn, tn):\n",
        "     accuracy = ((tp + tn) / (tp + tn + fp + fn))\n",
        "     return (accuracy)\n",
        "    \n",
        "# Função que calcula a Precisão \n",
        "def precision (tp, fp):\n",
        "    precision =  (tp / (tp + fp)) #predições positivas\n",
        "    return precision\n",
        "\n",
        "# Função que calcula o Recall ou Taxa de True Positive (TTP)\n",
        "def recall(tp, fn):\n",
        "    recall =  (tp / (tp + fn)) # reais positivos\n",
        "    return recall\n",
        "\n",
        "## Função que calcula o f-measure (media harmonica entre Precision e Recall)\n",
        "def f_measure(tp, fp, fn):\n",
        "    f_measure = (2 * precision(tp, fp) * recall(tp, fn)) / (recall(tp, fn) + precision(tp, fp))\n",
        "    return f_measure\n",
        "  \n",
        "# Função que calcula o Informedness \n",
        "def informedness(tp, fp, fn, tn):\n",
        "    inform = ((tp/rp(tp, fn)) - (fp/rn(fp, tn)))\n",
        "    return inform\n",
        "\n",
        "# Função que calcula o Markedness\n",
        "def markdness(tp, fp, fn, tn):    \n",
        "    mark = ((tp/pp(tp,fp)) - (fn/pn(fn,tn)))\n",
        "    return mark\n",
        "\n",
        "# Função que calcula a taxa de False Positive (TFP)\n",
        "def tfp(fp, tn):\n",
        "  tfp = (fp / (tn + fp))\n",
        "  return tfp"
      ],
      "execution_count": 0,
      "outputs": []
    },
    {
      "cell_type": "markdown",
      "metadata": {
        "id": "BOF8ZKaACREn",
        "colab_type": "text"
      },
      "source": [
        "Função que plota o gráfico de curva ROC. Fonte: [Scikit-plot](https://scikit-plot.readthedocs.io/en/stable/metrics.html#scikitplot.metrics.plot_roc)"
      ]
    },
    {
      "cell_type": "code",
      "metadata": {
        "id": "pUfAXiiiCRZp",
        "colab_type": "code",
        "colab": {}
      },
      "source": [
        "import matplotlib.pyplot as plt\n",
        "import numpy as np\n",
        "from sklearn.metrics import roc_curve, roc_auc_score, auc\n",
        "from sklearn.preprocessing import label_binarize\n",
        "from scipy import interp\n",
        "\n",
        "def plot_roc(y_true, y_probas, title='ROC Curves',\n",
        "                   plot_micro=True, plot_macro=True, classes_to_plot=None,\n",
        "                   ax=None, figsize=None, cmap='nipy_spectral',\n",
        "                   title_fontsize=\"large\", text_fontsize=\"medium\"):\n",
        "    \"\"\"Generates the ROC curves from labels and predicted scores/probabilities\n",
        "\n",
        "    Args:\n",
        "        y_true (array-like, shape (n_samples)):\n",
        "            Ground truth (correct) target values.\n",
        "\n",
        "        y_probas (array-like, shape (n_samples, n_classes)):\n",
        "            Prediction probabilities for each class returned by a classifier.\n",
        "\n",
        "        title (string, optional): Title of the generated plot. Defaults to\n",
        "            \"ROC Curves\".\n",
        "\n",
        "        plot_micro (boolean, optional): Plot the micro average ROC curve.\n",
        "            Defaults to ``True``.\n",
        "\n",
        "        plot_macro (boolean, optional): Plot the macro average ROC curve.\n",
        "            Defaults to ``True``.\n",
        "\n",
        "        classes_to_plot (list-like, optional): Classes for which the ROC\n",
        "            curve should be plotted. e.g. [0, 'cold']. If given class does not exist,\n",
        "            it will be ignored. If ``None``, all classes will be plotted. Defaults to\n",
        "            ``None``\n",
        "\n",
        "        ax (:class:`matplotlib.axes.Axes`, optional): The axes upon which to\n",
        "            plot the curve. If None, the plot is drawn on a new set of axes.\n",
        "\n",
        "        figsize (2-tuple, optional): Tuple denoting figure size of the plot\n",
        "            e.g. (6, 6). Defaults to ``None``.\n",
        "\n",
        "        cmap (string or :class:`matplotlib.colors.Colormap` instance, optional):\n",
        "            Colormap used for plotting the projection. View Matplotlib Colormap\n",
        "            documentation for available options.\n",
        "            https://matplotlib.org/users/colormaps.html\n",
        "\n",
        "        title_fontsize (string or int, optional): Matplotlib-style fontsizes.\n",
        "            Use e.g. \"small\", \"medium\", \"large\" or integer-values. Defaults to\n",
        "            \"large\".\n",
        "\n",
        "        text_fontsize (string or int, optional): Matplotlib-style fontsizes.\n",
        "            Use e.g. \"small\", \"medium\", \"large\" or integer-values. Defaults to\n",
        "            \"medium\".\n",
        "\n",
        "    Returns:\n",
        "        ax (:class:`matplotlib.axes.Axes`): The axes on which the plot was\n",
        "            drawn.\n",
        "\n",
        "    Example:\n",
        "        >>> import scikitplot as skplt\n",
        "        >>> nb = GaussianNB()\n",
        "        >>> nb = nb.fit(X_train, y_train)\n",
        "        >>> y_probas = nb.predict_proba(X_test)\n",
        "        >>> skplt.metrics.plot_roc(y_test, y_probas)\n",
        "        <matplotlib.axes._subplots.AxesSubplot object at 0x7fe967d64490>\n",
        "        >>> plt.show()\n",
        "\n",
        "        .. image:: _static/examples/plot_roc_curve.png\n",
        "           :align: center\n",
        "           :alt: ROC Curves\n",
        "    \"\"\"\n",
        "    y_true = np.array(y_true)\n",
        "    y_probas = np.array(y_probas)\n",
        "\n",
        "    classes = np.unique(y_true)\n",
        "    probas = y_probas\n",
        "\n",
        "    if classes_to_plot is None:\n",
        "        classes_to_plot = classes\n",
        "\n",
        "    if ax is None:\n",
        "        fig, ax = plt.subplots(1, 1, figsize=figsize)\n",
        "\n",
        "    ax.set_title(title, fontsize=title_fontsize)\n",
        "\n",
        "    fpr_dict = dict()\n",
        "    tpr_dict = dict()\n",
        "\n",
        "    indices_to_plot = np.in1d(classes, classes_to_plot)\n",
        "    for i, to_plot in enumerate(indices_to_plot):\n",
        "        fpr_dict[i], tpr_dict[i], _ = roc_curve(y_true, probas[:, i],\n",
        "                                                pos_label=classes[i])\n",
        "        if to_plot:\n",
        "            roc_auc = auc(fpr_dict[i], tpr_dict[i])\n",
        "            color = plt.cm.get_cmap(cmap)(float(i) / len(classes))\n",
        "            ax.plot(fpr_dict[i], tpr_dict[i], lw=2, color=color,\n",
        "                    label='ROC curve of class {0} (area = {1:0.2f})'\n",
        "                          ''.format(classes[i], roc_auc))\n",
        "\n",
        "    if plot_micro:\n",
        "        binarized_y_true = label_binarize(y_true, classes=classes)\n",
        "        if len(classes) == 2:\n",
        "            binarized_y_true = np.hstack(\n",
        "                (1 - binarized_y_true, binarized_y_true))\n",
        "        fpr, tpr, _ = roc_curve(binarized_y_true.ravel(), probas.ravel())\n",
        "        roc_auc = auc(fpr, tpr)\n",
        "        ax.plot(fpr, tpr,\n",
        "                label='micro-average ROC curve '\n",
        "                      '(area = {0:0.2f})'.format(roc_auc),\n",
        "                color='deeppink', linestyle=':', linewidth=4)\n",
        "\n",
        "    if plot_macro:\n",
        "        # Compute macro-average ROC curve and ROC area\n",
        "        # First aggregate all false positive rates\n",
        "        all_fpr = np.unique(np.concatenate([fpr_dict[x] for x in range(len(classes))]))\n",
        "\n",
        "        # Then interpolate all ROC curves at this points\n",
        "        mean_tpr = np.zeros_like(all_fpr)\n",
        "        for i in range(len(classes)):\n",
        "            mean_tpr += interp(all_fpr, fpr_dict[i], tpr_dict[i])\n",
        "\n",
        "        # Finally average it and compute AUC\n",
        "        mean_tpr /= len(classes)\n",
        "        roc_auc = auc(all_fpr, mean_tpr)\n",
        "\n",
        "        ax.plot(all_fpr, mean_tpr,\n",
        "                label='macro-average ROC curve '\n",
        "                      '(area = {0:0.2f})'.format(roc_auc),\n",
        "                color='navy', linestyle=':', linewidth=4)\n",
        "\n",
        "    ax.plot([0, 1], [0, 1], 'k--', lw=2)\n",
        "    ax.set_xlim([0.0, 1.0])\n",
        "    ax.set_ylim([0.0, 1.05])\n",
        "    ax.set_xlabel('False Positive Rate', fontsize=text_fontsize)\n",
        "    ax.set_ylabel('True Positive Rate', fontsize=text_fontsize)\n",
        "    ax.tick_params(labelsize=text_fontsize)\n",
        "    ax.legend(loc='lower right', fontsize=text_fontsize)\n",
        "    return ax"
      ],
      "execution_count": 0,
      "outputs": []
    },
    {
      "cell_type": "markdown",
      "metadata": {
        "id": "nnfyAWe60hcM",
        "colab_type": "text"
      },
      "source": [
        "Definido os valores da Matriz de Confusão"
      ]
    },
    {
      "cell_type": "code",
      "metadata": {
        "id": "WJOtHg660hnL",
        "colab_type": "code",
        "colab": {}
      },
      "source": [
        "tp, fp, fn, tn = [1,1,1,2]"
      ],
      "execution_count": 0,
      "outputs": []
    },
    {
      "cell_type": "markdown",
      "metadata": {
        "id": "cBnCTrcs0h75",
        "colab_type": "text"
      },
      "source": [
        "Calculando a Acurácia:"
      ]
    },
    {
      "cell_type": "code",
      "metadata": {
        "id": "JrDXlhEp0iD_",
        "colab_type": "code",
        "outputId": "1e2c20e5-6c91-4015-8a71-a25dbe6c78cd",
        "colab": {
          "base_uri": "https://localhost:8080/",
          "height": 34
        }
      },
      "source": [
        "accuracy (tp, fp, fn, tn)"
      ],
      "execution_count": 0,
      "outputs": [
        {
          "output_type": "execute_result",
          "data": {
            "text/plain": [
              "0.6"
            ]
          },
          "metadata": {
            "tags": []
          },
          "execution_count": 63
        }
      ]
    },
    {
      "cell_type": "markdown",
      "metadata": {
        "id": "S1EgduK_0iMN",
        "colab_type": "text"
      },
      "source": [
        "Calculando a Precision:"
      ]
    },
    {
      "cell_type": "code",
      "metadata": {
        "id": "aL86q9YP0iTa",
        "colab_type": "code",
        "outputId": "00f36059-5db5-4c44-9578-1232188e7fdc",
        "colab": {
          "base_uri": "https://localhost:8080/",
          "height": 34
        }
      },
      "source": [
        "precision (tp, fp)"
      ],
      "execution_count": 0,
      "outputs": [
        {
          "output_type": "execute_result",
          "data": {
            "text/plain": [
              "0.5"
            ]
          },
          "metadata": {
            "tags": []
          },
          "execution_count": 64
        }
      ]
    },
    {
      "cell_type": "markdown",
      "metadata": {
        "id": "RISuvABl1QRM",
        "colab_type": "text"
      },
      "source": [
        "Calculando o Recall:"
      ]
    },
    {
      "cell_type": "code",
      "metadata": {
        "id": "JHbboPE-1OBa",
        "colab_type": "code",
        "outputId": "932aef27-3034-4cbb-a9b1-a37eb1d2c787",
        "colab": {
          "base_uri": "https://localhost:8080/",
          "height": 34
        }
      },
      "source": [
        " recall(tp, fn)"
      ],
      "execution_count": 0,
      "outputs": [
        {
          "output_type": "execute_result",
          "data": {
            "text/plain": [
              "0.5"
            ]
          },
          "metadata": {
            "tags": []
          },
          "execution_count": 65
        }
      ]
    },
    {
      "cell_type": "markdown",
      "metadata": {
        "id": "D1Z-POVy1NzX",
        "colab_type": "text"
      },
      "source": [
        "Calculando o Informedness: "
      ]
    },
    {
      "cell_type": "code",
      "metadata": {
        "id": "_wmrvULM1TiK",
        "colab_type": "code",
        "outputId": "ee01dd60-9dbb-4157-9c31-721e4a03e5d4",
        "colab": {
          "base_uri": "https://localhost:8080/",
          "height": 34
        }
      },
      "source": [
        "informedness(tp, fp, fn, tn)"
      ],
      "execution_count": 0,
      "outputs": [
        {
          "output_type": "execute_result",
          "data": {
            "text/plain": [
              "0.16666666666666669"
            ]
          },
          "metadata": {
            "tags": []
          },
          "execution_count": 66
        }
      ]
    },
    {
      "cell_type": "markdown",
      "metadata": {
        "id": "SaQbezyD1OVs",
        "colab_type": "text"
      },
      "source": [
        "Calculando o Markedness:"
      ]
    },
    {
      "cell_type": "code",
      "metadata": {
        "id": "LRJSJy_n1oLZ",
        "colab_type": "code",
        "outputId": "5dc99bb9-21c9-405a-8819-6c5a5cb47fdf",
        "colab": {
          "base_uri": "https://localhost:8080/",
          "height": 34
        }
      },
      "source": [
        "markdness(tp, fp, fn, tn)"
      ],
      "execution_count": 0,
      "outputs": [
        {
          "output_type": "execute_result",
          "data": {
            "text/plain": [
              "0.16666666666666669"
            ]
          },
          "metadata": {
            "tags": []
          },
          "execution_count": 67
        }
      ]
    },
    {
      "cell_type": "markdown",
      "metadata": {
        "id": "8429jvMTArrt",
        "colab_type": "text"
      },
      "source": [
        "Definindo os valores para calculo do ROC-AUC"
      ]
    },
    {
      "cell_type": "code",
      "metadata": {
        "id": "Dl5f4VU_Arhp",
        "colab_type": "code",
        "colab": {}
      },
      "source": [
        "# Valores reais (ground truth)\n",
        "y_true = np.array([1, 1, 2, 2])\n",
        "\n",
        "#Probabilidade de estimar as classes positivas:\n",
        "y_scores = np.array([0.1, 0.4, 0.35, 0.8])\n",
        "\n",
        "# A probabilidade de predição de cada classe retornada por um classificador:\n",
        "y_probas = np.array([[1, 0],\n",
        "                     [1, 0],\n",
        "                     [1, 0],\n",
        "                     [0, 1]])"
      ],
      "execution_count": 0,
      "outputs": []
    },
    {
      "cell_type": "markdown",
      "metadata": {
        "id": "GbBqeW9SAxNZ",
        "colab_type": "text"
      },
      "source": [
        "Calculando os valores da curva AUC (Area Under Curve):"
      ]
    },
    {
      "cell_type": "code",
      "metadata": {
        "id": "8zpovtXDAxTt",
        "colab_type": "code",
        "outputId": "271b48b4-c344-43d0-a291-a8960d2365fc",
        "colab": {
          "base_uri": "https://localhost:8080/",
          "height": 34
        }
      },
      "source": [
        "roc_auc_score(y_true, y_scores)"
      ],
      "execution_count": 0,
      "outputs": [
        {
          "output_type": "execute_result",
          "data": {
            "text/plain": [
              "0.75"
            ]
          },
          "metadata": {
            "tags": []
          },
          "execution_count": 12
        }
      ]
    },
    {
      "cell_type": "markdown",
      "metadata": {
        "id": "XF4NyN6OAxbc",
        "colab_type": "text"
      },
      "source": [
        "Calculando as taxas de *false positive (tfp) e true positive (ttp)* os pontos da curva ROC (Receiver Operating Characteristic):"
      ]
    },
    {
      "cell_type": "code",
      "metadata": {
        "id": "ghq0-2UIAxhW",
        "colab_type": "code",
        "colab": {}
      },
      "source": [
        "tfp, ttp, thresholds = roc_curve(y_true, y_scores, pos_label=2)"
      ],
      "execution_count": 0,
      "outputs": []
    },
    {
      "cell_type": "markdown",
      "metadata": {
        "id": "6ZxI0TwyAx0U",
        "colab_type": "text"
      },
      "source": [
        "Exibindo as taxas tfp e ttp:"
      ]
    },
    {
      "cell_type": "code",
      "metadata": {
        "id": "zXkruvOUAx6u",
        "colab_type": "code",
        "outputId": "5d63a15b-fc30-47c3-dd06-9edcb21f6448",
        "colab": {
          "base_uri": "https://localhost:8080/",
          "height": 34
        }
      },
      "source": [
        "tfp"
      ],
      "execution_count": 0,
      "outputs": [
        {
          "output_type": "execute_result",
          "data": {
            "text/plain": [
              "array([0. , 0. , 0.5, 0.5, 1. ])"
            ]
          },
          "metadata": {
            "tags": []
          },
          "execution_count": 16
        }
      ]
    },
    {
      "cell_type": "code",
      "metadata": {
        "id": "UIDuX2o3DL14",
        "colab_type": "code",
        "outputId": "1d04aa30-ec1d-415f-b120-9304416b0b6d",
        "colab": {
          "base_uri": "https://localhost:8080/",
          "height": 34
        }
      },
      "source": [
        "ttp"
      ],
      "execution_count": 0,
      "outputs": [
        {
          "output_type": "execute_result",
          "data": {
            "text/plain": [
              "array([0. , 0.5, 0.5, 1. , 1. ])"
            ]
          },
          "metadata": {
            "tags": []
          },
          "execution_count": 17
        }
      ]
    },
    {
      "cell_type": "markdown",
      "metadata": {
        "id": "h1Hta2QDDam1",
        "colab_type": "text"
      },
      "source": [
        "Plotando os pontos da curva ROC:"
      ]
    },
    {
      "cell_type": "code",
      "metadata": {
        "id": "fS0xM7ShDawu",
        "colab_type": "code",
        "outputId": "f409ca1e-1b96-4bbc-ec1c-51a1fa408a9b",
        "colab": {
          "base_uri": "https://localhost:8080/",
          "height": 312
        }
      },
      "source": [
        "plot_roc(y_true, y_probas)"
      ],
      "execution_count": 0,
      "outputs": [
        {
          "output_type": "execute_result",
          "data": {
            "text/plain": [
              "<matplotlib.axes._subplots.AxesSubplot at 0x7fa1c6a669b0>"
            ]
          },
          "metadata": {
            "tags": []
          },
          "execution_count": 23
        },
        {
          "output_type": "display_data",
          "data": {
            "image/png": "[encoded data removed]",
            "text/plain": [
              "<Figure size 432x288 with 1 Axes>"
            ]
          },
          "metadata": {
            "tags": []
          }
        }
      ]
    },
    {
      "cell_type": "markdown",
      "metadata": {
        "id": "sOaWuY7dE84q",
        "colab_type": "text"
      },
      "source": [
        "## Treinamento e Testes de Modelos de Predição"
      ]
    },
    {
      "cell_type": "markdown",
      "metadata": {
        "id": "PS0qgPh6ywSY",
        "colab_type": "text"
      },
      "source": [
        "### Divisão do Dataset"
      ]
    },
    {
      "cell_type": "markdown",
      "metadata": {
        "id": "D115SXB4GJGC",
        "colab_type": "text"
      },
      "source": [
        "Dividindo o dataset no conjunto de treinamento e testes. Normalmente o conjunto de testes equivale a 1/3 do dataset total:"
      ]
    },
    {
      "cell_type": "code",
      "metadata": {
        "id": "QImAPykOGMOz",
        "colab_type": "code",
        "outputId": "c60aa1f3-5e7d-49b5-9369-418ae054f818",
        "colab": {
          "base_uri": "https://localhost:8080/",
          "height": 68
        }
      },
      "source": [
        "X_train, X_test, y_train, y_test = train_test_split(X, y, test_size = 1/3, random_state = 42)\n",
        "\n",
        "print(\"Tamanho do Dataset. {}\".format(df.shape[0]))\n",
        "print(\"Tamanho do Conjunto de Treinamento. {}\".format(len(X_train)))\n",
        "print(\"Tamanho do Conjunto de Testes. {}\".format(len(X_test)))\n"
      ],
      "execution_count": 0,
      "outputs": [
        {
          "output_type": "stream",
          "text": [
            "Tamanho do Dataset. 10\n",
            "Tamanho do Conjunto de Treinamento. 6\n",
            "Tamanho do Conjunto de Testes. 4\n"
          ],
          "name": "stdout"
        }
      ]
    },
    {
      "cell_type": "markdown",
      "metadata": {
        "id": "bWSSELsxIpJz",
        "colab_type": "text"
      },
      "source": [
        "### Validação Cruzada\n"
      ]
    },
    {
      "cell_type": "markdown",
      "metadata": {
        "id": "W_gdmirlF12c",
        "colab_type": "text"
      },
      "source": [
        "Criando uma função para definir os índices de uma validação cruzada:"
      ]
    },
    {
      "cell_type": "code",
      "metadata": {
        "id": "zjwKGpKry2nv",
        "colab_type": "code",
        "colab": {}
      },
      "source": [
        "# Função que retorna os indices do validação cruzada em k folds\n",
        "def k_fold_cv(indexes, k = 5, seed = 42):\n",
        "    \n",
        "    size = len(indexes)\n",
        "    subset_size = round(size / k)\n",
        "    random.Random(seed).shuffle(indexes)\n",
        "    subsets = [indexes[x:x+subset_size] for x in range(0, len(indexes), subset_size)]\n",
        "    kfolds = []\n",
        "    for i in range(k):\n",
        "        test = subsets[i]\n",
        "        train = []\n",
        "        for subset in subsets:\n",
        "            if subset != test:\n",
        "                train.append(subset)\n",
        "        kfolds.append((train,test))\n",
        "        \n",
        "    return (\"Indices de Treinamento:\", train, \"Indices de Testes:\", test)\n",
        "\n",
        "\n",
        "    return mark"
      ],
      "execution_count": 0,
      "outputs": []
    },
    {
      "cell_type": "markdown",
      "metadata": {
        "id": "ielGePYV0DoA",
        "colab_type": "text"
      },
      "source": [
        "Utilizando a função criada para definir os índices de treinamento e testes a serem utilizados usando 5 folds:"
      ]
    },
    {
      "cell_type": "code",
      "metadata": {
        "id": "FWvLV6ZjF2Ak",
        "colab_type": "code",
        "outputId": "46cb622a-fa9a-43fd-9f3b-0ac55655092d",
        "colab": {
          "base_uri": "https://localhost:8080/",
          "height": 85
        }
      },
      "source": [
        "k_fold_cv(list(df.index.values))"
      ],
      "execution_count": 0,
      "outputs": [
        {
          "output_type": "execute_result",
          "data": {
            "text/plain": [
              "('Indices de Treinamento:',\n",
              " [[7, 3], [2, 8], [5, 6], [9, 4]],\n",
              " 'Indices de Testes:',\n",
              " [0, 1])"
            ]
          },
          "metadata": {
            "tags": []
          },
          "execution_count": 70
        }
      ]
    },
    {
      "cell_type": "markdown",
      "metadata": {
        "id": "Xl9OHy7bF9Gr",
        "colab_type": "text"
      },
      "source": [
        "Criação dos índices de validação cruzada com 5 folds usando a biblioteca sklearn:"
      ]
    },
    {
      "cell_type": "markdown",
      "metadata": {
        "id": "Vt--vcewSBF5",
        "colab_type": "text"
      },
      "source": [
        ""
      ]
    }
  ]
}